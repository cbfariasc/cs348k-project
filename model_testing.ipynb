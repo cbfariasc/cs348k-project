{
  "cells": [
    {
      "cell_type": "code",
      "execution_count": 1,
      "metadata": {
        "colab": {
          "base_uri": "https://localhost:8080/"
        },
        "id": "xtywgP9ifJRP",
        "outputId": "28caf601-5810-499f-fbc9-cfda37f6e8bd"
      },
      "outputs": [],
      "source": [
        "# # This mounts your Google Drive to the Colab VM.\n",
        "# from google.colab import drive\n",
        "# drive.mount('/content/drive')\n",
        "\n",
        "# # TODO: Enter the foldername in your Drive where you have saved the unzipped\n",
        "# # assignment folder, e.g. 'cs231n/assignments/assignment3/'\n",
        "# FOLDERNAME = 'CS348K Final Project/cs348k-project/'\n",
        "# assert FOLDERNAME is not None, \"[!] Enter the foldername.\"\n",
        "\n",
        "# import os\n",
        "# project_path = os.path.join('/content/drive/My Drive', FOLDERNAME)\n",
        "# assert os.path.exists(project_path), \"[!] The specified folder does not exist in Google Drive.\"\n",
        "\n",
        "\n",
        "# # Now that we've mounted your Drive, this ensures that\n",
        "# # the Python interpreter of the Colab VM can load\n",
        "# # python files from within it.\n",
        "# import sys\n",
        "# sys.path.append('/content/drive/My Drive/{}'.format(FOLDERNAME))\n",
        "\n"
      ]
    },
    {
      "cell_type": "code",
      "execution_count": 2,
      "metadata": {
        "colab": {
          "base_uri": "https://localhost:8080/"
        },
        "id": "UA3Z6uJsfInG",
        "outputId": "e69a330e-2744-43c7-83cf-ccef3af4cc2c"
      },
      "outputs": [
        {
          "name": "stdout",
          "output_type": "stream",
          "text": [
            "cpu\n"
          ]
        }
      ],
      "source": [
        "from sample import BaseModel, train_predictor, train_selector\n",
        "from sample import PredictorNetwork\n",
        "from sample import SelectorNetwork\n",
        "import torchvision.models as models\n",
        "import torch\n",
        "import torch.nn as nn\n",
        "import torch.optim as optim\n",
        "device = torch.device('cuda' if torch.cuda.is_available() else 'cpu')\n",
        "print(device)\n"
      ]
    },
    {
      "cell_type": "code",
      "execution_count": 26,
      "metadata": {
        "colab": {
          "base_uri": "https://localhost:8080/"
        },
        "id": "ExNAQ3OtfInK",
        "outputId": "a66554f7-e6ab-43cf-d298-d409253990a9"
      },
      "outputs": [
        {
          "name": "stdout",
          "output_type": "stream",
          "text": [
            "Files already downloaded and verified\n",
            "Files already downloaded and verified\n",
            "Files already downloaded and verified\n",
            "Training dataset size: 50000\n",
            "Validation dataset size: 0\n",
            "Test dataset size: 1000\n"
          ]
        }
      ],
      "source": [
        "\"\"\"Set up the DataLoaders: \"\"\"\n",
        "from torchvision import datasets, transforms\n",
        "from torch.utils.data import DataLoader, random_split\n",
        "\n",
        "# Define the transformation for the validation data\n",
        "transform = transforms.Compose([\n",
        "    # transforms.Resize(256),\n",
        "    # transforms.CenterCrop(224),\n",
        "    # transforms.ToTensor(),\n",
        "    # transforms.Normalize(mean=[0.485, 0.456, 0.406], std=[0.229, 0.224, 0.225]),\n",
        "    transforms.RandomHorizontalFlip(),\n",
        "    transforms.RandomCrop(32, padding=4),\n",
        "    transforms.ToTensor(),\n",
        "    transforms.Normalize((0.4914, 0.4822, 0.4465), (0.2023, 0.1994, 0.2010)),\n",
        "])\n",
        "\n",
        "# Load the validation dataset\n",
        "val_dataset = datasets.CIFAR10(root='./data', train=False, download=True, transform=transform)\n",
        "val_loader = DataLoader(val_dataset, batch_size=32, shuffle=False)\n",
        "\n",
        "# Load the full CIFAR-10 training dataset\n",
        "full_train_dataset = datasets.CIFAR10(root='./data', train=True, download=True, transform=transform)\n",
        "\n",
        "# Define the sizes for training and validation datasets (80/20 split)\n",
        "train_size = 64000 #int(0.1 * len(full_train_dataset)) # 6400\n",
        "val_size = len(full_train_dataset) - train_size\n",
        "\n",
        "# Split the training dataset into training and validation sets\n",
        "train_dataset, val_dataset = random_split(full_train_dataset, [train_size, val_size])\n",
        "\n",
        "# Define the DataLoader for the training and validation datasets\n",
        "train_loader = DataLoader(train_dataset, batch_size=32, shuffle=True)\n",
        "val_loader = DataLoader(val_dataset, batch_size=32, shuffle=False)\n",
        "\n",
        "# Load the CIFAR-10 test datase\n",
        "test_transform = transforms.Compose([\n",
        "    transforms.ToTensor(),\n",
        "    transforms.Normalize((0.4914, 0.4822, 0.4465), (0.2023, 0.1994, 0.2010)),\n",
        "])\n",
        "test_dataset = datasets.CIFAR10(root='./data', train=False, download=True, transform=test_transform)\n",
        "\n",
        "test_size = int(0.1 * len(test_dataset))\n",
        "_, small_test_dataset = random_split(test_dataset, [len(test_dataset) - test_size, test_size])\n",
        "\n",
        "test_loader = DataLoader(small_test_dataset, batch_size=32, shuffle=False)\n",
        "\n",
        "# Print the sizes of the datasets\n",
        "print(f'Training dataset size: {len(train_dataset)}')\n",
        "print(f'Validation dataset size: {len(val_dataset)}')\n",
        "print(f'Test dataset size: {len(small_test_dataset)}')\n"
      ]
    },
    {
      "cell_type": "code",
      "execution_count": 27,
      "metadata": {
        "colab": {
          "base_uri": "https://localhost:8080/"
        },
        "id": "vBubXFJkfInL",
        "outputId": "d32128f1-bea6-4b77-f1dc-3767667375c4"
      },
      "outputs": [],
      "source": [
        "# Instantiate models, criterion, and optimizer\n",
        "# base_model = BaseModel()\n",
        "base_model = BaseModel()\n",
        "base_model.eval()\n",
        "num_classes = 10 # CIFAR10\n",
        "\n",
        "# Load the pretrained ResNet-50 model\n",
        "resnet50 = models.resnet50(pretrained=True) # pretrained on ImageNet\n",
        "# resnet50.eval() # sets this to evaluation mode\n",
        "\n",
        "resnet18 = models.resnet18(pretrained=True)\n",
        "for param in resnet18.parameters():\n",
        "    param.requires_grad = False\n",
        "resnet18.fc = nn.Linear(resnet18.fc.in_features, num_classes) #rewrites resnet18 final fc layer\n",
        "\n",
        "\n"
      ]
    },
    {
      "cell_type": "code",
      "execution_count": 28,
      "metadata": {
        "id": "VmijQIyRfInL"
      },
      "outputs": [],
      "source": [
        "import torch\n",
        "import torch.nn.functional as F\n",
        "from torchvision import models, datasets, transforms\n",
        "from torch.utils.data import DataLoader, Dataset\n",
        "\n",
        "# Dictionary to store hooks\n",
        "activation = {}\n",
        "\n",
        "def get_activation(name):\n",
        "    def hook(model, input, output):\n",
        "        activation[name] = output.detach()\n",
        "    return hook\n",
        "\n",
        "# Load the pretrained ResNet18 model\n",
        "resnet18 = models.resnet18(pretrained=True)\n",
        "device = torch.device('cuda' if torch.cuda.is_available() else 'cpu')\n",
        "resnet18 = resnet18.to(device)\n",
        "resnet18.eval()\n",
        "\n",
        "# Register hooks on the layers of interest\n",
        "hook_handles = []\n",
        "hook_handles.append(resnet18.layer1.register_forward_hook(get_activation('layer1')))\n",
        "hook_handles.append(resnet18.layer2.register_forward_hook(get_activation('layer2')))\n",
        "hook_handles.append(resnet18.layer3.register_forward_hook(get_activation('layer3')))\n",
        "hook_handles.append(resnet18.layer4.register_forward_hook(get_activation('layer4')))\n",
        "hook_handles.append(resnet18.fc.register_forward_hook(get_activation('fc')))\n",
        "\n",
        "# Transformation and data loading\n",
        "transform = transforms.Compose([\n",
        "    transforms.Resize((224, 224)),\n",
        "    transforms.ToTensor(),\n",
        "    transforms.Normalize(mean=[0.485, 0.456, 0.406], std=[0.229, 0.224, 0.225])\n",
        "])\n",
        "\n",
        "\n",
        "val_loader = DataLoader(val_dataset, batch_size=32, shuffle=False)\n",
        "\n",
        "# Initialize lists to collect layer outputs and correctness\n",
        "layer1_list, layer2_list, layer3_list, layer4_list, fc_list = [], [], [], [], []\n",
        "outputs_list, binary_list = [], []\n",
        "\n",
        "with torch.no_grad():\n",
        "    for images, labels in train_loader: # train_size \n",
        "        images = images.to(device)\n",
        "        labels = labels.to(device)\n",
        "        outputs = resnet18(images)\n",
        "\n",
        "        # Append activations\n",
        "        layer1_list.append(activation['layer1'].flatten())\n",
        "        layer2_list.append(activation['layer2'].flatten())\n",
        "        layer3_list.append(activation['layer3'].flatten())\n",
        "        layer4_list.append(activation['layer4'].flatten())\n",
        "        fc_list.append(activation['fc'].flatten())\n",
        "\n",
        "        # Append predictions and correctness\n",
        "        softmax_outputs = F.softmax(outputs, dim=1)\n",
        "        _, preds = torch.max(softmax_outputs, 1)\n",
        "        binary_list.extend((preds == labels).cpu().numpy())\n",
        "\n",
        "# Detach hooks\n",
        "for handle in hook_handles:\n",
        "    handle.remove()\n",
        "\n",
        "\n",
        "# Save tensors if needed\n",
        "# torch.save(layer1_tensor, 'layer1_tensor.pth')\n",
        "# torch.save(layer2_tensor, 'layer2_tensor.pth')\n",
        "# torch.save(layer3_tensor, 'layer3_tensor.pth')\n",
        "# torch.save(layer4_tensor, 'layer4_tensor.pth')\n",
        "# torch.save(fc_tensor, 'fc_tensor.pth')\n",
        "# torch.save(binary_tensor, 'binary_tensor.pth')\n",
        "\n",
        "import torch\n",
        "from torch.utils.data import Dataset, DataLoader\n",
        "\n",
        "\n",
        "# Create custom datasets\n",
        "class PredictorDataset(Dataset):\n",
        "    def __init__(self, inputs, targets):\n",
        "        self.inputs = inputs\n",
        "        self.targets = targets\n",
        "\n",
        "    def __len__(self):\n",
        "        return len(self.inputs)\n",
        "\n",
        "    def __getitem__(self, idx):\n",
        "        return self.inputs[idx], self.targets[idx]\n",
        "\n",
        "class SelectorDataset(Dataset):\n",
        "    def __init__(self, predictions, corrects):\n",
        "        self.predictions = predictions\n",
        "        self.corrects = corrects\n",
        "\n",
        "    def __len__(self):\n",
        "        return len(self.predictions)\n",
        "\n",
        "    def __getitem__(self, idx):\n",
        "        return self.predictions[idx], self.corrects[idx]\n",
        "\n",
        "# Create datasets\n",
        "predictor_layer1_dataset = PredictorDataset(layer1_list, fc_list)\n",
        "predictor_layer2_dataset = PredictorDataset(layer2_list, fc_list)\n",
        "predictor_layer3_dataset = PredictorDataset(layer3_list, fc_list)\n",
        "predictor_layer4_dataset = PredictorDataset(layer4_list, fc_list)\n",
        "selector_dataset = SelectorDataset(fc_list, binary_list)\n",
        "\n",
        "# Create dataloaders\n",
        "batch_size = 32\n",
        "predictor_layer1_data_loader = DataLoader(predictor_layer1_dataset, batch_size=batch_size, shuffle=True)\n",
        "predictor_layer2_data_loader = DataLoader(predictor_layer2_dataset, batch_size=batch_size, shuffle=True)\n",
        "predictor_layer3_data_loader = DataLoader(predictor_layer3_dataset, batch_size=batch_size, shuffle=True)\n",
        "predictor_layer4_data_loader = DataLoader(predictor_layer4_dataset, batch_size=batch_size, shuffle=True)\n",
        "selector_data_loader = DataLoader(selector_dataset, batch_size=batch_size, shuffle=True)\n",
        "\n",
        "# Define the predictor and selector networks\n",
        "class FCPredictor(nn.Module):\n",
        "    def __init__(self, input_dim, output_dim):\n",
        "        super(FCPredictor, self).__init__()\n",
        "        self.fc = nn.Sequential(\n",
        "            nn.Linear(input_dim, 512),\n",
        "            nn.ReLU(),\n",
        "            nn.Linear(512, output_dim)\n",
        "        )\n",
        "\n",
        "    def forward(self, x):\n",
        "        x = x.view(x.size(0), -1)  # Flatten input\n",
        "        return self.fc(x)\n",
        "\n",
        "class SelectorNetwork(nn.Module):\n",
        "    def __init__(self, input_dim):\n",
        "        super(SelectorNetwork, self).__init__()\n",
        "        self.fc = nn.Sequential(\n",
        "            nn.Linear(input_dim, 128),\n",
        "            nn.ReLU(),\n",
        "            nn.Linear(128, 1),\n",
        "            nn.Sigmoid()\n",
        "        )\n",
        "\n",
        "    def forward(self, x):\n",
        "        return self.fc(x)\n"
      ]
    },
    {
      "cell_type": "code",
      "execution_count": 25,
      "metadata": {
        "colab": {
          "base_uri": "https://localhost:8080/"
        },
        "id": "AOfMc0AWsay3",
        "outputId": "4ac41875-f8cd-4cef-b5b0-1ac11c11aa18"
      },
      "outputs": [
        {
          "name": "stdout",
          "output_type": "stream",
          "text": [
            "torch.Size([32, 64, 8, 8])\n",
            "torch.Size([32, 128, 4, 4])\n",
            "torch.Size([32, 256, 2, 2])\n",
            "torch.Size([32, 512, 1, 1])\n",
            "torch.Size([32, 1000])\n"
          ]
        }
      ],
      "source": [
        "print(activation['layer1'].shape)\n",
        "print(activation['layer2'].shape)\n",
        "print(activation['layer3'].shape)\n",
        "print(activation['layer4'].shape)\n",
        "print(activation['fc'].shape)"
      ]
    },
    {
      "cell_type": "code",
      "execution_count": 23,
      "metadata": {
        "colab": {
          "base_uri": "https://localhost:8080/",
          "height": 512
        },
        "id": "WkoTcknwfInM",
        "outputId": "052301ff-c41d-4bcf-a8da-30d6464a312c"
      },
      "outputs": [
        {
          "name": "stdout",
          "output_type": "stream",
          "text": [
            "Epoch 1, Loss: 4.231503827231271\n",
            "Epoch 2, Loss: 4.21611636025565\n",
            "Epoch 3, Loss: 4.220293726239886\n",
            "Epoch 4, Loss: 4.189759731292725\n",
            "Epoch 5, Loss: 4.192568642752511\n",
            "Epoch 6, Loss: 4.189505440848214\n",
            "Epoch 7, Loss: 4.215669359479632\n",
            "Epoch 8, Loss: 4.202531610216413\n",
            "Epoch 9, Loss: 4.195181506020682\n",
            "Epoch 10, Loss: 4.199807371412005\n",
            "Epoch 1, Loss: 0.7951503055436271\n",
            "Epoch 2, Loss: 0.5946180905614581\n",
            "Epoch 3, Loss: 0.44521751574107576\n",
            "Epoch 4, Loss: 0.32671593342508587\n",
            "Epoch 5, Loss: 0.24505763820239476\n",
            "Epoch 6, Loss: 0.19192799074309214\n",
            "Epoch 7, Loss: 0.15152652987412044\n",
            "Epoch 8, Loss: 0.11907381883689336\n",
            "Epoch 9, Loss: 0.09905641845294408\n",
            "Epoch 10, Loss: 0.08272481922592435\n"
          ]
        }
      ],
      "source": [
        "\n",
        "# Example training function for predictor and selector networks\n",
        "def train_predictor(model, dataloader, epochs=10):\n",
        "    criterion = nn.MSELoss()\n",
        "    optimizer = torch.optim.Adam(model.parameters(), lr=1e-6)\n",
        "    model.train()\n",
        "    loss_history = []\n",
        "    for epoch in range(epochs):\n",
        "        running_loss = 0.0\n",
        "        for inputs, targets in dataloader:\n",
        "            inputs, targets = inputs.to(device), targets.to(device)\n",
        "            optimizer.zero_grad()\n",
        "            outputs = model(inputs)\n",
        "            loss = criterion(outputs, targets)\n",
        "            loss.backward()\n",
        "            optimizer.step()\n",
        "            running_loss += loss.item()\n",
        "        print(f\"Epoch {epoch + 1}, Loss: {running_loss / len(dataloader)}\")\n",
        "        epoch_loss = running_loss / len(dataloader)\n",
        "        loss_history.append(epoch_loss)\n",
        "    return loss_history\n",
        "\n",
        "def train_selector(model, dataloader, epochs=10):\n",
        "    criterion = nn.BCELoss()\n",
        "    optimizer = torch.optim.Adam(model.parameters(), lr=1e-6)\n",
        "    model.train()\n",
        "    loss_history = []\n",
        "    for epoch in range(epochs):\n",
        "        running_loss = 0.0\n",
        "        for inputs, targets in dataloader:\n",
        "            inputs, targets = inputs.to(device), targets.to(device).float()\n",
        "            optimizer.zero_grad()\n",
        "            outputs = model(inputs)\n",
        "            loss = criterion(outputs.squeeze(), targets)\n",
        "            loss.backward()\n",
        "            optimizer.step()\n",
        "            running_loss += loss.item()\n",
        "        print(f\"Epoch {epoch + 1}, Loss: {running_loss / len(dataloader)}\")\n",
        "        epoch_loss = running_loss / len(dataloader)\n",
        "        loss_history.append(epoch_loss)\n",
        "    return loss_history\n",
        "\n",
        "\n",
        "# Example training for one predictor and selector\n",
        "input_dim = layer1_list[0].shape[0] # Adjust based on the actual shape\n",
        "output_dim = fc_list[0].shape[0]  # Number of classes, e.g., 10 for CIFAR-10\n",
        "\n",
        "# Create and train predictor network for layer1 outputs\n",
        "predictor_model = FCPredictor(input_dim, output_dim).to(device)\n",
        "predictor_loss = train_predictor(predictor_model, predictor_layer1_data_loader)\n",
        "\n",
        "# Create and train selector network\n",
        "selector_model = SelectorNetwork(output_dim).to(device)\n",
        "selector_loss = train_selector(selector_model, selector_data_loader)\n"
      ]
    },
    {
      "cell_type": "code",
      "execution_count": 29,
      "metadata": {},
      "outputs": [],
      "source": [
        "import torch\n",
        "\n",
        "# Define your model class (example)\n",
        "class MyModel(nn.Module):\n",
        "    def __init__(self):\n",
        "        super(MyModel, self).__init__()\n",
        "        self.fc = nn.Linear(10, 2)\n",
        "\n",
        "    def forward(self, x):\n",
        "        return self.fc(x)\n",
        "\n",
        "# Instantiate the model\n",
        "model = MyModel()\n",
        "\n",
        "# Specify the path where you want to save the model\n",
        "p_save_path = 'models/p_layer1_v1.pth'\n",
        "s_save_path = 'models/s_layer1_v1.pth'\n",
        "\n",
        "\n",
        "# Save the model's state dictionary\n",
        "torch.save(predictor_model.state_dict(), p_save_path)\n",
        "torch.save(selector_model.state_dict(), s_save_path)"
      ]
    },
    {
      "cell_type": "code",
      "execution_count": 24,
      "metadata": {
        "id": "DdxXkDKTfInM",
        "outputId": "313c218c-2e18-441e-f0b6-0b2635cc05ed"
      },
      "outputs": [
        {
          "data": {
            "image/png": "[encoded data removed]",
            "text/plain": [
              "<Figure size 1000x500 with 2 Axes>"
            ]
          },
          "metadata": {},
          "output_type": "display_data"
        }
      ],
      "source": [
        "import matplotlib.pyplot as plt\n",
        "#Plotting the Loss: \n",
        "# Plotting the loss history\n",
        "plt.figure(figsize=(10, 5))\n",
        "\n",
        "# Plot predictor loss\n",
        "plt.subplot(1, 2, 1)\n",
        "plt.plot(predictor_loss, label='Predictor Loss')\n",
        "plt.xlabel('Epochs')\n",
        "plt.ylabel('Loss')\n",
        "plt.title('Predictor Loss Over Epochs')\n",
        "plt.legend()\n",
        "\n",
        "# Plot selector loss\n",
        "plt.subplot(1, 2, 2)\n",
        "plt.plot(selector_loss, label='Selector Loss', color='orange')\n",
        "plt.xlabel('Epochs')\n",
        "plt.ylabel('Loss')\n",
        "plt.title('Selector Loss Over Epochs')\n",
        "plt.legend()\n",
        "\n",
        "plt.tight_layout()\n",
        "plt.show()\n"
      ]
    },
    {
      "cell_type": "code",
      "execution_count": null,
      "metadata": {
        "id": "UTKkKeUhfInN"
      },
      "outputs": [],
      "source": []
    }
  ],
  "metadata": {
    "accelerator": "GPU",
    "colab": {
      "gpuType": "T4",
      "provenance": []
    },
    "kernelspec": {
      "display_name": "Python 3",
      "name": "python3"
    },
    "language_info": {
      "codemirror_mode": {
        "name": "ipython",
        "version": 3
      },
      "file_extension": ".py",
      "mimetype": "text/x-python",
      "name": "python",
      "nbconvert_exporter": "python",
      "pygments_lexer": "ipython3",
      "version": "3.10.13"
    }
  },
  "nbformat": 4,
  "nbformat_minor": 0
}
