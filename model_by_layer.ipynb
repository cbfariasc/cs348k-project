{
 "cells": [
  {
   "cell_type": "code",
   "execution_count": 1,
   "metadata": {},
   "outputs": [
    {
     "name": "stdout",
     "output_type": "stream",
     "text": [
      "Requirement already satisfied: torch in c:\\users\\cbfar\\anaconda3\\envs\\cs221\\lib\\site-packages (1.13.1)\n",
      "Requirement already satisfied: torchvision in c:\\users\\cbfar\\anaconda3\\envs\\cs221\\lib\\site-packages (0.14.1)\n",
      "Requirement already satisfied: torchaudio in c:\\users\\cbfar\\anaconda3\\envs\\cs221\\lib\\site-packages (0.13.1)\n",
      "Requirement already satisfied: typing-extensions in c:\\users\\cbfar\\anaconda3\\envs\\cs221\\lib\\site-packages (from torch) (4.4.0)\n",
      "Requirement already satisfied: requests in c:\\users\\cbfar\\anaconda3\\envs\\cs221\\lib\\site-packages (from torchvision) (2.28.1)\n",
      "Requirement already satisfied: pillow!=8.3.*,>=5.3.0 in c:\\users\\cbfar\\anaconda3\\envs\\cs221\\lib\\site-packages (from torchvision) (9.5.0)\n",
      "Requirement already satisfied: numpy in c:\\users\\cbfar\\anaconda3\\envs\\cs221\\lib\\site-packages (from torchvision) (1.21.6)\n",
      "Requirement already satisfied: idna<4,>=2.5 in c:\\users\\cbfar\\anaconda3\\envs\\cs221\\lib\\site-packages (from requests->torchvision) (3.4)\n",
      "Requirement already satisfied: charset-normalizer<3,>=2 in c:\\users\\cbfar\\anaconda3\\envs\\cs221\\lib\\site-packages (from requests->torchvision) (2.1.1)\n",
      "Requirement already satisfied: urllib3<1.27,>=1.21.1 in c:\\users\\cbfar\\anaconda3\\envs\\cs221\\lib\\site-packages (from requests->torchvision) (1.26.12)\n",
      "Requirement already satisfied: certifi>=2017.4.17 in c:\\users\\cbfar\\anaconda3\\envs\\cs221\\lib\\site-packages (from requests->torchvision) (2024.2.2)\n"
     ]
    }
   ],
   "source": [
    "!pip install torch torchvision torchaudio"
   ]
  },
  {
   "cell_type": "code",
   "execution_count": 25,
   "metadata": {},
   "outputs": [
    {
     "name": "stdout",
     "output_type": "stream",
     "text": [
      "cpu\n"
     ]
    },
    {
     "name": "stderr",
     "output_type": "stream",
     "text": [
      "c:\\Users\\cbfar\\anaconda3\\envs\\cs221\\lib\\site-packages\\torchvision\\models\\_utils.py:209: UserWarning: The parameter 'pretrained' is deprecated since 0.13 and may be removed in the future, please use 'weights' instead.\n",
      "  f\"The parameter '{pretrained_param}' is deprecated since 0.13 and may be removed in the future, \"\n",
      "c:\\Users\\cbfar\\anaconda3\\envs\\cs221\\lib\\site-packages\\torchvision\\models\\_utils.py:223: UserWarning: Arguments other than a weight enum or `None` for 'weights' are deprecated since 0.13 and may be removed in the future. The current behavior is equivalent to passing `weights=ResNet50_Weights.IMAGENET1K_V1`. You can also use `weights=ResNet50_Weights.DEFAULT` to get the most up-to-date weights.\n",
      "  warnings.warn(msg)\n",
      "c:\\Users\\cbfar\\anaconda3\\envs\\cs221\\lib\\site-packages\\torchvision\\models\\_utils.py:223: UserWarning: Arguments other than a weight enum or `None` for 'weights' are deprecated since 0.13 and may be removed in the future. The current behavior is equivalent to passing `weights=ConvNeXt_Tiny_Weights.IMAGENET1K_V1`. You can also use `weights=ConvNeXt_Tiny_Weights.DEFAULT` to get the most up-to-date weights.\n",
      "  warnings.warn(msg)\n",
      "c:\\Users\\cbfar\\anaconda3\\envs\\cs221\\lib\\site-packages\\torchvision\\models\\_utils.py:223: UserWarning: Arguments other than a weight enum or `None` for 'weights' are deprecated since 0.13 and may be removed in the future. The current behavior is equivalent to passing `weights=ConvNeXt_Small_Weights.IMAGENET1K_V1`. You can also use `weights=ConvNeXt_Small_Weights.DEFAULT` to get the most up-to-date weights.\n",
      "  warnings.warn(msg)\n"
     ]
    },
    {
     "name": "stdout",
     "output_type": "stream",
     "text": [
      "Layer: conv1, Output shape: torch.Size([1, 3, 224, 224]), total time: 0.0\n",
      "Layer: bn1, Output shape: torch.Size([1, 3, 224, 224]), total time: 0.0\n",
      "Layer: relu, Output shape: torch.Size([1, 3, 224, 224]), total time: 0.0\n",
      "Layer: maxpool, Output shape: torch.Size([1, 3, 224, 224]), total time: 0.0\n",
      "Layer: layer1, Output shape: torch.Size([1, 3, 224, 224]), total time: 0.0\n",
      "Layer: layer2, Output shape: torch.Size([1, 3, 224, 224]), total time: 0.0\n",
      "Layer: layer3, Output shape: torch.Size([1, 3, 224, 224]), total time: 0.0\n",
      "Layer: layer4, Output shape: torch.Size([1, 3, 224, 224]), total time: 0.0\n",
      "Layer: avgpool, Output shape: torch.Size([1, 3, 1, 1]), total time: 0.0019979476928710938\n",
      "Layer: fc, Output shape: torch.Size([1, 3]), total time: 0.0\n",
      "total time: 0.0030007362365722656\n"
     ]
    }
   ],
   "source": [
    "from sample import BaseModel, train_predictor, train_selector\n",
    "from sample import PredictorNetwork\n",
    "from sample import SelectorNetwork\n",
    "import torchvision.models as models\n",
    "import torch\n",
    "import torch.nn as nn\n",
    "import torch.optim as optim\n",
    "import time\n",
    "device = torch.device('cuda' if torch.cuda.is_available() else 'cpu')\n",
    "print(device)\n",
    "\n",
    "# Load the pretrained ResNet-50 model\n",
    "resnet50 = models.resnet50(pretrained=True)\n",
    "selector = models.convnext_tiny(pretrained=True)\n",
    "predictor = models.convnext_small(pretrained=True)\n",
    "# Switch to evaluation mode\n",
    "resnet50.eval()\n",
    "selector.eval()\n",
    "predictor.eval()\n",
    "\n",
    "# Define your input data (example input tensor)\n",
    "input_data = torch.randn(1, 3, 224, 224)  # Example input with shape (batch_size, channels, height, width)\n",
    "\n",
    "# Iterate through each layer in the ResNet-50 model and apply them sequentially\n",
    "output = input_data\n",
    "total_start = time.time()\n",
    "for name, layer in resnet50.named_children():\n",
    "    start = time.time()\n",
    "    if name == 'avgpool':\n",
    "        output = nn.functional.adaptive_avg_pool2d(output, (1, 1))\n",
    "    elif name == 'fc':\n",
    "        output = output.view(output.size(0), -1)\n",
    "    elif name == 'layer1' or name == 'layer2' or name == 'layer3' or name == 'layer4':\n",
    "        pred_out = predictor(output)\n",
    "        if selector(pred_out) == 1:\n",
    "            output = pred_out\n",
    "            break\n",
    "\n",
    "    print(f\"Layer: {name}, Output shape: {output.shape}, total time: {time.time() - start}\")\n",
    "\n",
    "print(f\"total time: {time.time() - total_start}\")\n",
    "#mod = models.convnext_tiny(pretrained=False)\n",
    "#print(len(mod.named_children()))\n"
   ]
  }
 ],
 "metadata": {
  "kernelspec": {
   "display_name": "cs221",
   "language": "python",
   "name": "python3"
  },
  "language_info": {
   "name": "python",
   "version": "3.7.13"
  }
 },
 "nbformat": 4,
 "nbformat_minor": 2
}
